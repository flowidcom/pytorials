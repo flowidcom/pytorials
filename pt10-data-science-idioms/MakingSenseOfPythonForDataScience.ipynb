{
 "cells": [
  {
   "cell_type": "markdown",
   "metadata": {
    "slideshow": {
     "slide_type": "slide"
    }
   },
   "source": [
    "# Making Sense of Python for Data Science with NumPy and Pandas\n",
    "\n",
    "```\n",
    "\n",
    "\n",
    "```\n",
    "\n",
    "#### Calin Groza<br/>\n",
    "Feb. 21, 2019\n",
    "\n",
    "```\n",
    "\n",
    "\n",
    "```\n",
    "\n",
    "--------\n"
   ]
  },
  {
   "cell_type": "markdown",
   "metadata": {
    "slideshow": {
     "slide_type": "slide"
    }
   },
   "source": [
    "## Introduction\n",
    "\n",
    "\n",
    "#### Background\n",
    " * experience with imperative languages: C, C++, Java\n",
    " * using RDBMS (Oracle, MySQL) for handling medium to large (but not very large) amount of data\n",
    " * interested in the machine learning\n",
    "\n",
    "#### First Reaction Looking at the Data Science/Machine Learning Examples\n",
    "  * very few control structures: if, for, while\n",
    "  * extensive method overloading, i.e the same method accepts multiple parameter types\n",
    "  * concise code using operators like _indexing_ \\[ \\] and _slice_ .. : .. : ..\n",
    "  * in-place changes to one object that contains all the data\n",
    "  * easy to read, hard to write\n",
    "  \n",
    "#### What Is Covered in this Notebook\n",
    "  * some of the unusual Python constructs commonly used in the NumPy and Pandas\n",
    "  * origin and rationale of using these constructs\n",
    "  * differences between Java/SQL and Python/NumPy/Pandas in implementing typical data manipulation tasks\n",
    "  \n",
    "-----------------------------------\n",
    " "
   ]
  },
  {
   "cell_type": "markdown",
   "metadata": {},
   "source": [
    "## Access to the Presentation\n",
    "\n",
    "\n",
    " * **Option 1 - online**\n",
    "      * go to the github page - https://github.com/flowidcom/pytorials/blob/master/pt10-data-science-idioms/MakingSenseOfPythonForDataScience.ipynb - and follow the presentation online\n",
    "      * the web page is a saved snapshot of the notebook and cannot run the code fragments\n",
    " * **Option 2 - download a zip file with the presentation and data**\n",
    "      * download the zip file from: https://github.com/flowidcom/pytorials/releases/tag/release-1.4\n",
    "      * unzip the file on the local machine in the Jupyter notebook area\n",
    "      * launch Jupyter, navigate to the extracted folder and open the notebook pt10-data-science-idioms/MakingSenseOfPythonForDataScience.ipynb\n",
    "      * further instructions of how to install locally a Jupyter zip file are available at  https://github.com/ylabrj/ylab_Jupyter_Intro/blob/master/Ylab%20how%20to%20start%20with%20Jupyter%20Notebook.ipynb\n",
    " * **Option 3 - clone the git repository**\n",
    "      * GitHub repository is at https://github.com/flowidcom/pytorials\n",
    "      * launch Jupyter on the local computer and point to the local git repository\n",
    "      \n",
    "---------"
   ]
  },
  {
   "cell_type": "markdown",
   "metadata": {
    "slideshow": {
     "slide_type": "slide"
    }
   },
   "source": [
    "## Python for Everyone\n",
    "\n",
    "Python is a general purpose programming language similar to (and slightly different) C++, Java:\n",
    "* imperative - statements, if, for, while\n",
    "* object-oriented:\n",
    "    * like C++, Java\n",
    "        * classes\n",
    "        * modules (like packages in Java)\n",
    "    * similar to C++ and unlike Java:\n",
    "        * supports overloading operators as built-in functions. E.g.  \\_\\_getitem\\_\\_', \\_\\_setitem\\_\\_\n",
    "    * unlike C++ and unlike Java:\n",
    "        * some built-in types that have syntactic support: slice (1:5:2), ellipsis (...)\n",
    "        * untyped\n",
    "* functional: lambda expressions\n",
    "* modular, with a rich set of open-source libraries\n",
    "* emphasis on readability\n",
    "\n",
    "-------"
   ]
  },
  {
   "cell_type": "markdown",
   "metadata": {
    "slideshow": {
     "slide_type": "slide"
    }
   },
   "source": [
    "## What Is Machine Learning?\n",
    "\n",
    "![Machine Learning Humor](img/MachineLearningHumor.png)"
   ]
  },
  {
   "cell_type": "markdown",
   "metadata": {
    "slideshow": {
     "slide_type": "slide"
    }
   },
   "source": [
    "## Python Saves the Day\n",
    "\n",
    "![Drivers for Python for Data Science](img/PythonDataScienceSources.png)\n",
    "\n",
    "\n",
    "-----"
   ]
  },
  {
   "cell_type": "markdown",
   "metadata": {},
   "source": [
    "## From MatLab to NumPy\n",
    "\n",
    "\n",
    "*MatLab* is a high-level language (primarily) for linear algebra. \n",
    "  Matrix and vector are first-class entities in MatLab.\n",
    "\n",
    "*NumPy* is a Python library for linear algebra. Matrix and vectors are not first-class objects in Python, \n",
    "   but through the extended use of the index (\\[ \\]) operator and the slice type, \n",
    "   the NumPy library brings MatLab concepts and syntax in the Python domain.\n"
   ]
  },
  {
   "cell_type": "markdown",
   "metadata": {},
   "source": [
    "#### Example - Linear Regression\n",
    "\n",
    "The following is an example from the Machine Learning course on Coursera by Andrew Ng.\n",
    "\n",
    "![Cost Function for Linear Regression](img/LinearRegressionCostFunction.png)\n",
    "\n",
    "The MatLab/Octave program to calculate the cost function is:\n",
    "\n",
    "![Linear Regression MatLab](img/LinearRegressionOctave.png)"
   ]
  },
  {
   "cell_type": "markdown",
   "metadata": {},
   "source": [
    "Notes on this example:\n",
    " * this is a screenshot of another Jupyter notebook available \n",
    "    at [LinearRegressionOctaveNotebook](LinearRegression1-Octave.ipynb).\n",
    "    That notebook requires the Octave Kernel to be installed in Jupyter\n",
    " * notice the matrix operations - slice, concatenation, initialization with zeros, multiplication with scalar, multiplication of matrices\n",
    " \n",
    "------"
   ]
  },
  {
   "cell_type": "markdown",
   "metadata": {},
   "source": [
    "## Linear Regression in NumPy\n"
   ]
  },
  {
   "cell_type": "code",
   "execution_count": 1,
   "metadata": {},
   "outputs": [],
   "source": [
    "import numpy as np"
   ]
  },
  {
   "cell_type": "code",
   "execution_count": 2,
   "metadata": {},
   "outputs": [],
   "source": [
    "data = np.loadtxt('real-estate-prices.csv', delimiter=',')\n",
    "X = data[:, 0:-1]  # this is syntactic sugar for X = data.__getitem__((slice(None, None), slice(0, -1)))\n",
    "y = data[:, -1]\n",
    "m = len(y)"
   ]
  },
  {
   "cell_type": "code",
   "execution_count": 3,
   "metadata": {},
   "outputs": [
    {
     "name": "stdout",
     "output_type": "stream",
     "text": [
      "Dimensions: (47, 1) (47,)\n"
     ]
    }
   ],
   "source": [
    "print('Dimensions:', X.shape, y.shape)  # Notice the shapes - 2d vs 1d"
   ]
  },
  {
   "cell_type": "code",
   "execution_count": 4,
   "metadata": {},
   "outputs": [],
   "source": [
    "X = np.hstack([np.ones((m, 1)), X])  # concatenate ones to the left, theta_0"
   ]
  },
  {
   "cell_type": "code",
   "execution_count": 5,
   "metadata": {},
   "outputs": [],
   "source": [
    "def computeCost(X, y, theta):\n",
    "    m = len(y)\n",
    "    J = 1 / (2 * m) * sum((X @ theta - y[:, np.newaxis]) ** 2)\n",
    "    # The row before syntactic sugar for\n",
    "    #         1 / (2 * m) * sum(X.__matmul__(theta).__sub__(y.__getitem__((slice(None, None), np.newaxis))))\n",
    "    return np.asscalar(J)\n"
   ]
  },
  {
   "cell_type": "code",
   "execution_count": 6,
   "metadata": {},
   "outputs": [],
   "source": [
    "theta = np.zeros([2, 1]) # array of zeros, 2 rows, 1 column"
   ]
  },
  {
   "cell_type": "code",
   "execution_count": 7,
   "metadata": {},
   "outputs": [],
   "source": [
    "J = computeCost(X, y, theta)"
   ]
  },
  {
   "cell_type": "code",
   "execution_count": 8,
   "metadata": {},
   "outputs": [
    {
     "name": "stdout",
     "output_type": "stream",
     "text": [
      "Cost:  65591548106.45744\n"
     ]
    }
   ],
   "source": [
    "print('Cost: ', J)"
   ]
  },
  {
   "cell_type": "markdown",
   "metadata": {},
   "source": [
    "What allowed the program to be concise?\n",
    "* Object Oriented Python allows to have the same method/operator with different semantic depending on the class\n",
    "* Syntactic sugar for:  \\_\\_getitem__, slice, \\_\\_sub\\_\\_ and \\_\\_matmul\\_\\_\n",
    "* Use of implicit tuple between \\[ \\]. getitem has only one parameter, but because of implicit tuples, it looks as if there are two parameters passed to the indexing call\n",
    "* Method/operator overloading with different parameter types\n",
    "* Python built-in functions such as sum and len are very generic, they accept any Iterable\n",
    "* Static methods in NumPy modules: np.zeros, np.ones\n",
    "* Polymorphic built-in functions like _len_ and _sum_ operate on any Iterable. In this case the Iterable is a NumPy array\n"
   ]
  },
  {
   "cell_type": "markdown",
   "metadata": {},
   "source": [
    "Python constructs that are common to data analysis programs:\n",
    "* initial data read and the slice of the data in input data and outcome. See how to select the last column using negative range\n",
    "* no Python loops, use instead use NumPy methods\n",
    "   * first, because it makes more concise and reduces the chance of errors at the edge\n",
    "   * second, because of performance - vectorization\n"
   ]
  },
  {
   "cell_type": "markdown",
   "metadata": {},
   "source": [
    "Notes when converting code from MatLab to Python:\n",
    "* operations between 1d-array and 2d-arrays are not semantically the same in MatLab and Python.\n",
    "See X * theta -y vs. X @ theta - y[:, np.newaxis]\n",
    "* some keywords from MatLab do not exist in Python: end\n",
    "\n",
    "\n",
    "\n",
    "------"
   ]
  },
  {
   "cell_type": "markdown",
   "metadata": {},
   "source": [
    "## From R and SQL to Pandas\n",
    "\n",
    "![Tehncial Difficulties](img/TechnicalDifficulties.png)"
   ]
  },
  {
   "cell_type": "markdown",
   "metadata": {},
   "source": [
    "Pandas is a Python library for data manipulation and analysis. Its core data structure - DataFrame - is inspired from and similar to the R data.frame object.\n",
    "\n",
    "Wes McKinney - creator of pandas:\n",
    "\n",
    ">\\[...\\] many features found in pandas are typically either part of the R core implementation or provided by add-on packages\n",
    "    \n",
    ">The pandas name itself is derived from _panel_ _data_, an econometric term for multidimensional structured datasets an a play on the phrase Python Data Analysis.\n",
    "\n",
    "#### SQL to Pandas - Concept Mapping\n",
    "\n",
    "* a DataFrame looks like a table in the relational database, i.e. a large set of rows with the same record structure\n",
    "* a Series is like a row, but can also be a column ... which makes it quite confusing\n",
    "* the SELECT/WHERE clause is implemented by overwriting the indexing operator (\\[ \\]) or using the index members _loc_ and _iloc_."
   ]
  },
  {
   "cell_type": "markdown",
   "metadata": {},
   "source": [
    "#### Query Example: find all the rows that have the first column between 10 and 20"
   ]
  },
  {
   "cell_type": "code",
   "execution_count": 9,
   "metadata": {},
   "outputs": [],
   "source": [
    "import pandas as pd\n",
    "import numpy as np"
   ]
  },
  {
   "cell_type": "code",
   "execution_count": 10,
   "metadata": {},
   "outputs": [],
   "source": [
    "df = pd.read_csv('real-estate-prices.csv', header=None, names = ['Size', 'Price'])"
   ]
  },
  {
   "cell_type": "code",
   "execution_count": 11,
   "metadata": {},
   "outputs": [
    {
     "data": {
      "text/html": [
       "<div>\n",
       "<style scoped>\n",
       "    .dataframe tbody tr th:only-of-type {\n",
       "        vertical-align: middle;\n",
       "    }\n",
       "\n",
       "    .dataframe tbody tr th {\n",
       "        vertical-align: top;\n",
       "    }\n",
       "\n",
       "    .dataframe thead th {\n",
       "        text-align: right;\n",
       "    }\n",
       "</style>\n",
       "<table border=\"1\" class=\"dataframe\">\n",
       "  <thead>\n",
       "    <tr style=\"text-align: right;\">\n",
       "      <th></th>\n",
       "      <th>Size</th>\n",
       "      <th>Price</th>\n",
       "    </tr>\n",
       "  </thead>\n",
       "  <tbody>\n",
       "    <tr>\n",
       "      <th>1</th>\n",
       "      <td>1600</td>\n",
       "      <td>329900</td>\n",
       "    </tr>\n",
       "    <tr>\n",
       "      <th>3</th>\n",
       "      <td>1416</td>\n",
       "      <td>232000</td>\n",
       "    </tr>\n",
       "    <tr>\n",
       "      <th>5</th>\n",
       "      <td>1985</td>\n",
       "      <td>299900</td>\n",
       "    </tr>\n",
       "    <tr>\n",
       "      <th>6</th>\n",
       "      <td>1534</td>\n",
       "      <td>314900</td>\n",
       "    </tr>\n",
       "    <tr>\n",
       "      <th>7</th>\n",
       "      <td>1427</td>\n",
       "      <td>198999</td>\n",
       "    </tr>\n",
       "  </tbody>\n",
       "</table>\n",
       "</div>"
      ],
      "text/plain": [
       "   Size   Price\n",
       "1  1600  329900\n",
       "3  1416  232000\n",
       "5  1985  299900\n",
       "6  1534  314900\n",
       "7  1427  198999"
      ]
     },
     "execution_count": 11,
     "metadata": {},
     "output_type": "execute_result"
    }
   ],
   "source": [
    "df[(df['Size'] > 1000) & (df['Size'] < 2000)].head()"
   ]
  },
  {
   "cell_type": "markdown",
   "metadata": {},
   "source": [
    "#### Update Example: add a new column representing the square footage"
   ]
  },
  {
   "cell_type": "code",
   "execution_count": 12,
   "metadata": {},
   "outputs": [],
   "source": [
    "df['PricePerSquareFoot'] = df['Price'] / df['Size']"
   ]
  },
  {
   "cell_type": "code",
   "execution_count": 13,
   "metadata": {},
   "outputs": [
    {
     "data": {
      "text/html": [
       "<div>\n",
       "<style scoped>\n",
       "    .dataframe tbody tr th:only-of-type {\n",
       "        vertical-align: middle;\n",
       "    }\n",
       "\n",
       "    .dataframe tbody tr th {\n",
       "        vertical-align: top;\n",
       "    }\n",
       "\n",
       "    .dataframe thead th {\n",
       "        text-align: right;\n",
       "    }\n",
       "</style>\n",
       "<table border=\"1\" class=\"dataframe\">\n",
       "  <thead>\n",
       "    <tr style=\"text-align: right;\">\n",
       "      <th></th>\n",
       "      <th>Size</th>\n",
       "      <th>Price</th>\n",
       "      <th>PricePerSquareFoot</th>\n",
       "    </tr>\n",
       "  </thead>\n",
       "  <tbody>\n",
       "    <tr>\n",
       "      <th>0</th>\n",
       "      <td>2104</td>\n",
       "      <td>399900</td>\n",
       "      <td>190.066540</td>\n",
       "    </tr>\n",
       "    <tr>\n",
       "      <th>1</th>\n",
       "      <td>1600</td>\n",
       "      <td>329900</td>\n",
       "      <td>206.187500</td>\n",
       "    </tr>\n",
       "    <tr>\n",
       "      <th>2</th>\n",
       "      <td>2400</td>\n",
       "      <td>369000</td>\n",
       "      <td>153.750000</td>\n",
       "    </tr>\n",
       "    <tr>\n",
       "      <th>3</th>\n",
       "      <td>1416</td>\n",
       "      <td>232000</td>\n",
       "      <td>163.841808</td>\n",
       "    </tr>\n",
       "    <tr>\n",
       "      <th>4</th>\n",
       "      <td>3000</td>\n",
       "      <td>539900</td>\n",
       "      <td>179.966667</td>\n",
       "    </tr>\n",
       "  </tbody>\n",
       "</table>\n",
       "</div>"
      ],
      "text/plain": [
       "   Size   Price  PricePerSquareFoot\n",
       "0  2104  399900          190.066540\n",
       "1  1600  329900          206.187500\n",
       "2  2400  369000          153.750000\n",
       "3  1416  232000          163.841808\n",
       "4  3000  539900          179.966667"
      ]
     },
     "execution_count": 13,
     "metadata": {},
     "output_type": "execute_result"
    }
   ],
   "source": [
    "df.head()"
   ]
  },
  {
   "cell_type": "markdown",
   "metadata": {},
   "source": [
    "Notes:\n",
    "* the indexing (\\[ \\]) operator  is overloaded in several ways:\n",
    "    * given a string, it returns a column\n",
    "    * given a boolean vector (as a pandas.Series) it returns all the rows where the vector value is true\n",
    "    * when is on the left-hand-side of and assignment the method invoked is \\_\\_setitem\\_\\_\n",
    "* the arithmetic and boolean operators are overloaded to apply to the entire set of rows\n",
    "* very easy to create new columns\n",
    "* logical indexing is the preferred way to do queries - it is vectorized\n",
    "\n",
    "Python idioms:\n",
    "* query/filter data set - this is very common\n",
    "* create a new column with a derived value\n"
   ]
  },
  {
   "cell_type": "markdown",
   "metadata": {},
   "source": [
    "#### Complex Query Example: return the top 5 most expensive houses\n"
   ]
  },
  {
   "cell_type": "code",
   "execution_count": 14,
   "metadata": {},
   "outputs": [],
   "source": [
    "df = pd.read_csv('real-estate-prices.csv', header=None, names = ['Size', 'Price'])"
   ]
  },
  {
   "cell_type": "code",
   "execution_count": 15,
   "metadata": {},
   "outputs": [],
   "source": [
    "top5 = df[['Price']] \\\n",
    "    [df['Size'] > 3000] \\\n",
    "    .sort_values(by='Price', ascending=[False]) \\\n",
    "    .head(5) "
   ]
  },
  {
   "cell_type": "code",
   "execution_count": 16,
   "metadata": {},
   "outputs": [
    {
     "data": {
      "text/html": [
       "<div>\n",
       "<style scoped>\n",
       "    .dataframe tbody tr th:only-of-type {\n",
       "        vertical-align: middle;\n",
       "    }\n",
       "\n",
       "    .dataframe tbody tr th {\n",
       "        vertical-align: top;\n",
       "    }\n",
       "\n",
       "    .dataframe thead th {\n",
       "        text-align: right;\n",
       "    }\n",
       "</style>\n",
       "<table border=\"1\" class=\"dataframe\">\n",
       "  <thead>\n",
       "    <tr style=\"text-align: right;\">\n",
       "      <th></th>\n",
       "      <th>Price</th>\n",
       "    </tr>\n",
       "  </thead>\n",
       "  <tbody>\n",
       "    <tr>\n",
       "      <th>13</th>\n",
       "      <td>699900</td>\n",
       "    </tr>\n",
       "    <tr>\n",
       "      <th>19</th>\n",
       "      <td>599000</td>\n",
       "    </tr>\n",
       "    <tr>\n",
       "      <th>33</th>\n",
       "      <td>579900</td>\n",
       "    </tr>\n",
       "    <tr>\n",
       "      <th>24</th>\n",
       "      <td>573900</td>\n",
       "    </tr>\n",
       "    <tr>\n",
       "      <th>38</th>\n",
       "      <td>549000</td>\n",
       "    </tr>\n",
       "  </tbody>\n",
       "</table>\n",
       "</div>"
      ],
      "text/plain": [
       "     Price\n",
       "13  699900\n",
       "19  599000\n",
       "33  579900\n",
       "24  573900\n",
       "38  549000"
      ]
     },
     "execution_count": 16,
     "metadata": {},
     "output_type": "execute_result"
    }
   ],
   "source": [
    "top5"
   ]
  },
  {
   "cell_type": "markdown",
   "metadata": {},
   "source": [
    "Notes:\n",
    "* Notice the sequence of operation - this is called chained invocation - this helps make the code more concise\n",
    "* ... but there are questions, is the variable top5 a copy of the data or a view into the variable df?"
   ]
  },
  {
   "cell_type": "code",
   "execution_count": 17,
   "metadata": {},
   "outputs": [],
   "source": [
    "top5['Type'] = 'Luxury' # create a new column and set the value"
   ]
  },
  {
   "cell_type": "code",
   "execution_count": 18,
   "metadata": {},
   "outputs": [
    {
     "data": {
      "text/plain": [
       "Size       4478\n",
       "Price    699900\n",
       "Name: 13, dtype: int64"
      ]
     },
     "execution_count": 18,
     "metadata": {},
     "output_type": "execute_result"
    }
   ],
   "source": [
    "df.loc[13]"
   ]
  },
  {
   "cell_type": "markdown",
   "metadata": {},
   "source": [
    "Notice that the value was not set in df. top5 is a copy, not a view in df.\n",
    "The correct way is to use the _loc_\\[ \\] method which is guaranteed to operate on the object itself."
   ]
  },
  {
   "cell_type": "code",
   "execution_count": 19,
   "metadata": {},
   "outputs": [],
   "source": [
    "df.loc[top5.index, 'Type'] = 'Luxury'"
   ]
  },
  {
   "cell_type": "code",
   "execution_count": 20,
   "metadata": {},
   "outputs": [
    {
     "data": {
      "text/plain": [
       "Size       4478\n",
       "Price    699900\n",
       "Type     Luxury\n",
       "Name: 13, dtype: object"
      ]
     },
     "execution_count": 20,
     "metadata": {},
     "output_type": "execute_result"
    }
   ],
   "source": [
    "df.loc[13]"
   ]
  },
  {
   "cell_type": "markdown",
   "metadata": {},
   "source": [
    "Conclusion: to update the dataframe always use the df.loc or df.iloc member rather than the indexing operator alone."
   ]
  },
  {
   "cell_type": "markdown",
   "metadata": {},
   "source": [
    "#### Other SQL-like Methods in Pandas\n",
    "\n",
    "Joining data sets is supported using the pandas method called merge. LEFT and RIGHT join are supported in a similar way to SQL.\n",
    "\n",
    "The concept of index is explicit in Pandas while it operates behind the scenes in SQL. There are ways to remove the index, re-index. The index can be multi-level.\n",
    "\n",
    "The pandas method _groupby_ implements a function similar to GROUP BY in SQL.\n",
    "\n",
    "\n",
    "------"
   ]
  },
  {
   "cell_type": "markdown",
   "metadata": {},
   "source": [
    "## Functional Programming and Pandas\n",
    "\n",
    "Python has capabilities for functional programming:\n",
    "  * Functions are objects\n",
    "  * Can be assigned to variables\n",
    "  * Can be passed as parameters to methods\n",
    "  * functions can be anonymous - lambda functions\n",
    "\n",
    "Pandas:\n",
    " * allows functions to be used in many where conditions are allowed\n",
    " * most useful in indexing.\n",
    "\n",
    "The following example selects all the rows where column A is a prime number:"
   ]
  },
  {
   "cell_type": "code",
   "execution_count": 62,
   "metadata": {},
   "outputs": [
    {
     "data": {
      "text/html": [
       "<div>\n",
       "<style scoped>\n",
       "    .dataframe tbody tr th:only-of-type {\n",
       "        vertical-align: middle;\n",
       "    }\n",
       "\n",
       "    .dataframe tbody tr th {\n",
       "        vertical-align: top;\n",
       "    }\n",
       "\n",
       "    .dataframe thead th {\n",
       "        text-align: right;\n",
       "    }\n",
       "</style>\n",
       "<table border=\"1\" class=\"dataframe\">\n",
       "  <thead>\n",
       "    <tr style=\"text-align: right;\">\n",
       "      <th></th>\n",
       "      <th>A</th>\n",
       "      <th>B</th>\n",
       "    </tr>\n",
       "  </thead>\n",
       "  <tbody>\n",
       "    <tr>\n",
       "      <th>0</th>\n",
       "      <td>1</td>\n",
       "      <td>1</td>\n",
       "    </tr>\n",
       "    <tr>\n",
       "      <th>1</th>\n",
       "      <td>2</td>\n",
       "      <td>4</td>\n",
       "    </tr>\n",
       "    <tr>\n",
       "      <th>2</th>\n",
       "      <td>3</td>\n",
       "      <td>9</td>\n",
       "    </tr>\n",
       "    <tr>\n",
       "      <th>3</th>\n",
       "      <td>4</td>\n",
       "      <td>16</td>\n",
       "    </tr>\n",
       "    <tr>\n",
       "      <th>4</th>\n",
       "      <td>5</td>\n",
       "      <td>25</td>\n",
       "    </tr>\n",
       "  </tbody>\n",
       "</table>\n",
       "</div>"
      ],
      "text/plain": [
       "   A   B\n",
       "0  1   1\n",
       "1  2   4\n",
       "2  3   9\n",
       "3  4  16\n",
       "4  5  25"
      ]
     },
     "execution_count": 62,
     "metadata": {},
     "output_type": "execute_result"
    }
   ],
   "source": [
    "N = 100000\n",
    "ab = pd.DataFrame({'A': np.arange(1, N), 'B': np.arange(1, N) ** 2})\n",
    "ab.head()"
   ]
  },
  {
   "cell_type": "code",
   "execution_count": 63,
   "metadata": {},
   "outputs": [],
   "source": [
    "def is_prime(n):\n",
    "    if n == 2:\n",
    "        return True\n",
    "    if n % 2 == 0 or n <= 1:\n",
    "        return False\n",
    "\n",
    "    sqr = int(n ** 0.5) + 1\n",
    "\n",
    "    for divisor in range(3, sqr, 2):\n",
    "        if n % divisor == 0:\n",
    "            return False\n",
    "    return True"
   ]
  },
  {
   "cell_type": "code",
   "execution_count": 64,
   "metadata": {},
   "outputs": [
    {
     "data": {
      "text/html": [
       "<div>\n",
       "<style scoped>\n",
       "    .dataframe tbody tr th:only-of-type {\n",
       "        vertical-align: middle;\n",
       "    }\n",
       "\n",
       "    .dataframe tbody tr th {\n",
       "        vertical-align: top;\n",
       "    }\n",
       "\n",
       "    .dataframe thead th {\n",
       "        text-align: right;\n",
       "    }\n",
       "</style>\n",
       "<table border=\"1\" class=\"dataframe\">\n",
       "  <thead>\n",
       "    <tr style=\"text-align: right;\">\n",
       "      <th></th>\n",
       "      <th>A</th>\n",
       "      <th>B</th>\n",
       "    </tr>\n",
       "  </thead>\n",
       "  <tbody>\n",
       "    <tr>\n",
       "      <th>1</th>\n",
       "      <td>2</td>\n",
       "      <td>4</td>\n",
       "    </tr>\n",
       "    <tr>\n",
       "      <th>2</th>\n",
       "      <td>3</td>\n",
       "      <td>9</td>\n",
       "    </tr>\n",
       "    <tr>\n",
       "      <th>4</th>\n",
       "      <td>5</td>\n",
       "      <td>25</td>\n",
       "    </tr>\n",
       "    <tr>\n",
       "      <th>6</th>\n",
       "      <td>7</td>\n",
       "      <td>49</td>\n",
       "    </tr>\n",
       "    <tr>\n",
       "      <th>10</th>\n",
       "      <td>11</td>\n",
       "      <td>121</td>\n",
       "    </tr>\n",
       "  </tbody>\n",
       "</table>\n",
       "</div>"
      ],
      "text/plain": [
       "     A    B\n",
       "1    2    4\n",
       "2    3    9\n",
       "4    5   25\n",
       "6    7   49\n",
       "10  11  121"
      ]
     },
     "execution_count": 64,
     "metadata": {},
     "output_type": "execute_result"
    }
   ],
   "source": [
    "ab[lambda df : df.apply(lambda row: is_prime(row['A']), axis = 1)].head()"
   ]
  },
  {
   "cell_type": "markdown",
   "metadata": {},
   "source": [
    "But in some cases using a function may be much slower then the alternative matrix expression."
   ]
  },
  {
   "cell_type": "code",
   "execution_count": 65,
   "metadata": {},
   "outputs": [
    {
     "name": "stdout",
     "output_type": "stream",
     "text": [
      "825 µs ± 4.75 µs per loop (mean ± std. dev. of 7 runs, 1000 loops each)\n"
     ]
    }
   ],
   "source": [
    "%timeit ab['C'] = ab['A'] + ab['B']"
   ]
  },
  {
   "cell_type": "code",
   "execution_count": 66,
   "metadata": {},
   "outputs": [
    {
     "name": "stdout",
     "output_type": "stream",
     "text": [
      "2.23 s ± 16.2 ms per loop (mean ± std. dev. of 7 runs, 1 loop each)\n"
     ]
    }
   ],
   "source": [
    "%timeit ab['C'] = ab.apply(lambda row: row['A'] + row['B'], axis = 1)"
   ]
  },
  {
   "cell_type": "markdown",
   "metadata": {},
   "source": [
    "The reason for the difference is that the indexing and addition operators are implemented in C and are very fast. The apply/lambda function is interpreted in Python and needs to be evaluated for every row."
   ]
  },
  {
   "cell_type": "markdown",
   "metadata": {},
   "source": [
    "## Conclusions\n",
    "\n",
    "The Data Science/Machine Learning programs are valid, if not cryptic, Python code.\n",
    "\n",
    "![Why it works](img/WhyItWorks.png)\n",
    "\n",
    "Compared with other programs:\n",
    " * there are fewer control statements: _if_s and _for_s\n",
    " * the programs are sequences of calls to NumPy and Pandas method and implement matrix or data frame manipulations\n",
    " * NumPy and Pandas libraries overload arithmetic and logical operators to apply to entire multi-dimensional array or data frame\n",
    "\n",
    "Takeaways the C++, Java developers:\n",
    " * when trying to execute an operation on the whole dataset look for a dedicated Numpy or Pandas method, don't try to iterate over the dataset or to use _apply_ method\n",
    " * look at ways to express the application logic in terms of linear algebra\n",
    " * use Jupyter to explore data and try different options before writing long programs\n",
    " * build a collection of code fragments for specific tasks. It is easier to go back at an example than read the documentation\n",
    " "
   ]
  },
  {
   "cell_type": "markdown",
   "metadata": {},
   "source": [
    "## Next Steps\n",
    "\n",
    "Books:\n",
    "  * Pandas for Data Analysis - Wes McKinney, the original author of Pandas\n",
    "  * Learning IPython for Interactive Computing and Data Visualization - Cyrille Rossant \n",
    "  \n",
    "Web sites:\n",
    "  * DataFrame join/merge: https://chrisalbon.com/python/data_wrangling/pandas_join_merge_dataframe/\n",
    "  * Conversion from MatLab to NumPy: http://mathesaurus.sourceforge.net/matlab-numpy.html\n",
    "\n",
    "Check other notebooks in the Pytorials repository:\n",
    "  * [Linear Regression using NumPy](LinearRegression1-NumPy.ipynb)\n",
    "  * [Data Frame Queries using Pandas](DataFrameQueries-Pandas.ipynb)\n",
    "  * [Linear Regression using Octave](LinearRegression1-Octave.ipynb)\n",
    "  * ... and more\n"
   ]
  },
  {
   "cell_type": "code",
   "execution_count": null,
   "metadata": {},
   "outputs": [],
   "source": []
  }
 ],
 "metadata": {
  "kernelspec": {
   "display_name": "Python 3",
   "language": "python",
   "name": "python3"
  },
  "language_info": {
   "codemirror_mode": {
    "name": "ipython",
    "version": 3
   },
   "file_extension": ".py",
   "mimetype": "text/x-python",
   "name": "python",
   "nbconvert_exporter": "python",
   "pygments_lexer": "ipython3",
   "version": "3.7.1"
  }
 },
 "nbformat": 4,
 "nbformat_minor": 2
}
