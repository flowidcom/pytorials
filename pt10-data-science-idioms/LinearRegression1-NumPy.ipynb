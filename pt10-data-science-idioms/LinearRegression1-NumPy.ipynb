{
 "cells": [
  {
   "cell_type": "markdown",
   "metadata": {},
   "source": [
    "# Linear Regression using Python and NumPy"
   ]
  },
  {
   "cell_type": "code",
   "execution_count": 1,
   "metadata": {},
   "outputs": [],
   "source": [
    "import numpy as np\n",
    "import matplotlib.pyplot as plt\n",
    "\n",
    "%precision 3\n",
    "np.set_printoptions(formatter={'float': '{: 0.3f}'.format})\n",
    "%matplotlib notebook"
   ]
  },
  {
   "cell_type": "markdown",
   "metadata": {},
   "source": [
    "This example will read real estate data from a csv file. The file contains two columns, the size of the house in square feet and the price."
   ]
  },
  {
   "cell_type": "code",
   "execution_count": 20,
   "metadata": {},
   "outputs": [],
   "source": [
    "data = np.loadtxt('real-estate-prices.csv', delimiter=',')\n",
    "X = data[:, 0:-1]  # this is syntactic sugar for X = data.__getitem__((slice(None, None), slice(0, -1)))\n",
    "y = data[:, -1]\n",
    "m = len(y)"
   ]
  },
  {
   "cell_type": "code",
   "execution_count": 21,
   "metadata": {},
   "outputs": [
    {
     "name": "stdout",
     "output_type": "stream",
     "text": [
      "Dimensions: (47, 1) (47,)\n"
     ]
    }
   ],
   "source": [
    "print('Dimensions:', X.shape, y.shape)"
   ]
  },
  {
   "cell_type": "code",
   "execution_count": 22,
   "metadata": {},
   "outputs": [
    {
     "data": {
      "text/plain": [
       "<matplotlib.collections.PathCollection at 0x113ad7f98>"
      ]
     },
     "execution_count": 22,
     "metadata": {},
     "output_type": "execute_result"
    },
    {
     "data": {
      "image/png": "[encoded data removed]",
      "text/plain": [
       "<Figure size 432x288 with 1 Axes>"
      ]
     },
     "metadata": {
      "needs_background": "light"
     },
     "output_type": "display_data"
    }
   ],
   "source": [
    "plt.figure()\n",
    "plt.scatter(X[:], y, marker = 'o', color = 'r')"
   ]
  },
  {
   "cell_type": "markdown",
   "metadata": {},
   "source": [
    "Because the house size is in the thousands, normalize first the features."
   ]
  },
  {
   "cell_type": "code",
   "execution_count": 23,
   "metadata": {},
   "outputs": [],
   "source": [
    "def featureNormalization(X):\n",
    "    mu = X.mean()\n",
    "    sigma = X.std()\n",
    "    X_norm = (X - mu) / sigma\n",
    "    return X_norm, mu, sigma"
   ]
  },
  {
   "cell_type": "code",
   "execution_count": 24,
   "metadata": {},
   "outputs": [
    {
     "name": "stdout",
     "output_type": "stream",
     "text": [
      "[[ 0.131]\n",
      " [-0.510]\n",
      " [ 0.508]\n",
      " [-0.744]\n",
      " [ 1.271]\n",
      " [-0.020]\n",
      " [-0.594]\n",
      " [-0.730]\n",
      " [-0.789]\n",
      " [-0.644]]\n"
     ]
    }
   ],
   "source": [
    "X, mu, sigma = featureNormalization(X)\n",
    "print(X[0:10])"
   ]
  },
  {
   "cell_type": "markdown",
   "metadata": {},
   "source": [
    "Add the bias, i.e. the first column of the X matrix will contains ones."
   ]
  },
  {
   "cell_type": "code",
   "execution_count": 25,
   "metadata": {},
   "outputs": [
    {
     "name": "stdout",
     "output_type": "stream",
     "text": [
      "X: [[ 1.000  0.131]\n",
      " [ 1.000 -0.510]\n",
      " [ 1.000  0.508]\n",
      " [ 1.000 -0.744]\n",
      " [ 1.000  1.271]\n",
      " [ 1.000 -0.020]\n",
      " [ 1.000 -0.594]\n",
      " [ 1.000 -0.730]\n",
      " [ 1.000 -0.789]\n",
      " [ 1.000 -0.644]] Dimension:  (47, 2)\n"
     ]
    }
   ],
   "source": [
    "X = np.hstack((np.ones((m, 1)), X))\n",
    "print(\"X:\", X[0:10], 'Dimension: ', X.shape)"
   ]
  },
  {
   "cell_type": "code",
   "execution_count": 26,
   "metadata": {},
   "outputs": [
    {
     "data": {
      "text/plain": [
       "array([ 399900.000,  329900.000,  369000.000,  232000.000,  539900.000,\n",
       "        299900.000,  314900.000,  198999.000,  212000.000,  242500.000])"
      ]
     },
     "execution_count": 26,
     "metadata": {},
     "output_type": "execute_result"
    }
   ],
   "source": [
    "y[0:10]"
   ]
  },
  {
   "cell_type": "code",
   "execution_count": 9,
   "metadata": {},
   "outputs": [],
   "source": [
    "def computeCost(X, y, theta):\n",
    "    m = len(y)\n",
    "    J = 1 / (2 * m) * sum((X @ theta - y[:, np.newaxis]) ** 2)\n",
    "    return np.asscalar(J)\n"
   ]
  },
  {
   "cell_type": "code",
   "execution_count": 10,
   "metadata": {},
   "outputs": [
    {
     "data": {
      "text/plain": [
       "65591548106.457"
      ]
     },
     "execution_count": 10,
     "metadata": {},
     "output_type": "execute_result"
    }
   ],
   "source": [
    "theta = np.zeros([2, 1])\n",
    "J = computeCost(X, y, theta)\n",
    "J"
   ]
  },
  {
   "cell_type": "code",
   "execution_count": 11,
   "metadata": {},
   "outputs": [
    {
     "data": {
      "text/plain": [
       "array([[ 2104.000],\n",
       "       [ 1600.000]])"
      ]
     },
     "execution_count": 11,
     "metadata": {},
     "output_type": "execute_result"
    }
   ],
   "source": [
    "# Expanded expression replacing operator with member functions\n",
    "A = data.__getitem__((slice(None, None), slice(0, -1)))\n",
    "A[0:2]"
   ]
  },
  {
   "cell_type": "code",
   "execution_count": 12,
   "metadata": {},
   "outputs": [
    {
     "data": {
      "text/plain": [
       "array([-170206.330])"
      ]
     },
     "execution_count": 12,
     "metadata": {},
     "output_type": "execute_result"
    }
   ],
   "source": [
    "# Expanded expression - another example\n",
    "B = 1 / (2 * m) * sum(X.__matmul__(theta).__sub__(y.__getitem__((slice(None, None), np.newaxis))))\n",
    "B"
   ]
  },
  {
   "cell_type": "code",
   "execution_count": 13,
   "metadata": {},
   "outputs": [],
   "source": [
    "def gradientDescent(X, y, theta, alpha, iterations):\n",
    "    m = len(y)\n",
    "    for iter in range(0, iterations):\n",
    "        theta = theta - alpha * (1/m) * (X.T @ (X @ theta - y[:, np.newaxis]))\n",
    "    return theta"
   ]
  },
  {
   "cell_type": "code",
   "execution_count": 14,
   "metadata": {},
   "outputs": [],
   "source": [
    "iterations = 10000\n",
    "alpha = 0.01\n",
    "theta = np.array([0, 0]).reshape([2, 1])"
   ]
  },
  {
   "cell_type": "code",
   "execution_count": 15,
   "metadata": {},
   "outputs": [
    {
     "name": "stdout",
     "output_type": "stream",
     "text": [
      "Result of gradient descent, theta:  [[ 340412.660]\n",
      " [ 105764.133]]\n"
     ]
    }
   ],
   "source": [
    "theta = gradientDescent(X, y, theta, alpha, iterations)\n",
    "print(\"Result of gradient descent, theta: \", theta)"
   ]
  },
  {
   "cell_type": "markdown",
   "metadata": {},
   "source": [
    "### Testing"
   ]
  },
  {
   "cell_type": "code",
   "execution_count": 16,
   "metadata": {},
   "outputs": [],
   "source": [
    "# Calculate the price for the house with 2000sf\n",
    "test1 = np.array([1, (2000 - mu) / sigma ])\n",
    "predict1 = np.asscalar(test1 @ theta)"
   ]
  },
  {
   "cell_type": "code",
   "execution_count": 17,
   "metadata": {},
   "outputs": [
    {
     "data": {
      "text/plain": [
       "340321.068"
      ]
     },
     "execution_count": 17,
     "metadata": {},
     "output_type": "execute_result"
    }
   ],
   "source": [
    "predict1"
   ]
  },
  {
   "cell_type": "code",
   "execution_count": 28,
   "metadata": {},
   "outputs": [
    {
     "data": {
      "text/plain": [
       "[<matplotlib.lines.Line2D at 0x113ca20f0>]"
      ]
     },
     "execution_count": 28,
     "metadata": {},
     "output_type": "execute_result"
    },
    {
     "data": {
      "image/png": "[encoded data removed]",
      "text/plain": [
       "<Figure size 432x288 with 1 Axes>"
      ]
     },
     "metadata": {
      "needs_background": "light"
     },
     "output_type": "display_data"
    }
   ],
   "source": [
    "x = data[:, 0]\n",
    "plt.scatter(data[:, 0], data[:, 1], marker = 'x', color = 'r')\n",
    "plt.plot(x, X @ theta)"
   ]
  },
  {
   "cell_type": "code",
   "execution_count": null,
   "metadata": {},
   "outputs": [],
   "source": []
  }
 ],
 "metadata": {
  "kernelspec": {
   "display_name": "Python 3",
   "language": "python",
   "name": "python3"
  },
  "language_info": {
   "codemirror_mode": {
    "name": "ipython",
    "version": 3
   },
   "file_extension": ".py",
   "mimetype": "text/x-python",
   "name": "python",
   "nbconvert_exporter": "python",
   "pygments_lexer": "ipython3",
   "version": "3.7.1"
  }
 },
 "nbformat": 4,
 "nbformat_minor": 2
}
