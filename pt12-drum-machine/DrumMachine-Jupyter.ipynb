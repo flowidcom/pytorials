{
 "cells": [
  {
   "cell_type": "markdown",
   "metadata": {},
   "source": [
    "### DrumMachine - How to run on Jupyter"
   ]
  },
  {
   "cell_type": "markdown",
   "metadata": {},
   "source": [
    " * **Option 1 - read online using nbviewer**\n",
    "    * go to the nbviewer page: https://nbviewer.jupyter.org/github/flowidcom/pytorials/blob/master/pt12-drum-machine  (https://bit.ly/2pPhaHf)\n",
    " * **Option 2 - run the code on Binder**\n",
    "    * launch Binder at: http://mybinder.org/repo/flowidcom/pytorials/pt-drum-machine\n",
    "    * then go to pt12-drum-machine\n",
    " * **Option 3 - download a zip file with the presentation and data**\n",
    "      * download the zip file from: https://github.com/flowidcom/pytorials/archive/master.zip\n",
    "      * unzip the file on the local machine in the Jupyter notebook area\n",
    "      * launch Jupyter, navigate to the extracted folder and open the notebook pt12-drum-machine\n",
    "      * further instructions of how to install locally a Jupyter zip file are available at  https://github.com/ylabrj/ylab_Jupyter_Intro/blob/master/Ylab%20how%20to%20start%20with%20Jupyter%20Notebook.ipynb\n",
    " * **Option 4 - clone the git repository**\n",
    "      * GitHub repository is at https://github.com/flowidcom/pytorials\n",
    "      * launch Jupyter on the local computer and point to the local git repository\n"
   ]
  },
  {
   "cell_type": "code",
   "execution_count": null,
   "metadata": {},
   "outputs": [],
   "source": []
  }
 ],
 "metadata": {
  "kernelspec": {
   "display_name": "Python 3",
   "language": "python",
   "name": "python3"
  },
  "language_info": {
   "codemirror_mode": {
    "name": "ipython",
    "version": 3
   },
   "file_extension": ".py",
   "mimetype": "text/x-python",
   "name": "python",
   "nbconvert_exporter": "python",
   "pygments_lexer": "ipython3",
   "version": "3.7.1"
  }
 },
 "nbformat": 4,
 "nbformat_minor": 2
}
