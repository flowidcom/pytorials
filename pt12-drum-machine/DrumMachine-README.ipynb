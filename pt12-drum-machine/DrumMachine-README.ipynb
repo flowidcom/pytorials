{
 "cells": [
  {
   "cell_type": "markdown",
   "metadata": {},
   "source": [
    "# Drum Machine using Python\n",
    "\n",
    "Summary (read-only) in **nbviewer**: <font size=\"6\">https://bit.ly/2pPhaHf</font>\n",
    "\n",
    " * TR808 - what is it? - [TR808](DrumMachine-TR808.ipynb)\n",
    " * Simple sounds and beats - [Intro](DrumMachine-Intro.ipynb)\n",
    " * Music structure\n",
    "    * Basics - [MusicStructure](DrumMachine-MusicStructure.ipynb)\n",
    "    * More Advanced - [MusicStructure2](DrumMachine-MusicStructure2.ipynb)\n",
    " * Jupyter configuration - [Jupyter](DrumMachine-Jupyter.ipynb)\n",
    "\n",
    "To run and modify the notebooks on **mybinder**:\n",
    " * Go to: http://mybinder.org/repo/flowidcom/pytorials/pt-drum-machine\n",
    " * Select folder pt12-drum-machine\n",
    " * Select one of the notebooks:\n",
    "     * DrumMachine-Intro - Sounds and Beats\n",
    "     * DrumMachine-MusicStructure - Music structure\n",
    "     * DrumMachine-MusicStructure2 - More advanced music structure\n"
   ]
  }
 ],
 "metadata": {
  "kernelspec": {
   "display_name": "Python 3",
   "language": "python",
   "name": "python3"
  },
  "language_info": {
   "codemirror_mode": {
    "name": "ipython",
    "version": 3
   },
   "file_extension": ".py",
   "mimetype": "text/x-python",
   "name": "python",
   "nbconvert_exporter": "python",
   "pygments_lexer": "ipython3",
   "version": "3.7.1"
  }
 },
 "nbformat": 4,
 "nbformat_minor": 2
}
