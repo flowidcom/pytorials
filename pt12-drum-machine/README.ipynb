{
 "cells": [
  {
   "cell_type": "markdown",
   "metadata": {},
   "source": [
    "# Drum Machine using Python\n",
    "\n",
    " * Jupyter configuration - [Jupyter](DrumMachine-Jupyter.ipynb)\n",
    " * TR808 - what is it? - [TR808](DrumMachine-TR808.ipynb)\n",
    " * Simple sounds and beats - [Intro](DrumMachine-Intro.ipynb)\n",
    " * Music structure\n",
    "    * Basics - [MusicStructure](DrumMachine-MusicStructure.ipynb)\n",
    "    * More Advanced - [MusicStructure2](DrumMachine-MusicStructure2.ipynb)"
   ]
  },
  {
   "cell_type": "code",
   "execution_count": null,
   "metadata": {},
   "outputs": [],
   "source": []
  }
 ],
 "metadata": {
  "kernelspec": {
   "display_name": "Python 3",
   "language": "python",
   "name": "python3"
  },
  "language_info": {
   "codemirror_mode": {
    "name": "ipython",
    "version": 3
   },
   "file_extension": ".py",
   "mimetype": "text/x-python",
   "name": "python",
   "nbconvert_exporter": "python",
   "pygments_lexer": "ipython3",
   "version": "3.7.1"
  }
 },
 "nbformat": 4,
 "nbformat_minor": 2
}
